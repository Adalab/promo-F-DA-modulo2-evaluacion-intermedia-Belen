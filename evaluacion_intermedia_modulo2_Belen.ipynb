{
 "cells": [
  {
   "cell_type": "markdown",
   "metadata": {},
   "source": [
    "Parte 1: Web Scraping con BeautifulSoup\n",
    "\n",
    "Utilizando la biblioteca BeautifulSoup en Python, extrae información de la siguiente. Debes extraer la siguiente información:\n",
    "El nombre de las rutas que aparecen en la página web.\n",
    "Donde esta ubicada la ruta.\n",
    "El tipo de ruta. Si esta información añadir \"Desconocido\".\n",
    "Duración de la ruta.\n",
    "Los kilometros de la ruta.\n",
    "La dificultad de la ruta.\n",
    "El esfuerzo de la ruta.\n",
    "La descripción de la ruta.\n",
    "Tendrás que obtener un DataFrame similar al que observas a continuación"
   ]
  },
  {
   "cell_type": "code",
   "execution_count": null,
   "metadata": {},
   "outputs": [],
   "source": [
    "# antes de empezar importamos las librerías que vamos a usar. \n",
    "# Importar librerías para web scraping y manipulación de datos\n",
    "# -----------------------------------------------------------------------\n",
    "from bs4 import BeautifulSoup\n",
    "import requests\n",
    "\n",
    "# Importar librerías para manipulación y análisis de datos\n",
    "# -----------------------------------------------------------------------\n",
    "import pandas as pd\n",
    "\n",
    "# Importar librerías para procesamiento de texto\n",
    "# -----------------------------------------------------------------------\n",
    "import re\n"
   ]
  },
  {
   "cell_type": "code",
   "execution_count": 132,
   "metadata": {},
   "outputs": [
    {
     "name": "stdout",
     "output_type": "stream",
     "text": [
      "La respuesta de la petición es: 200\n"
     ]
    },
    {
     "ename": "TypeError",
     "evalue": "'list' object is not callable",
     "output_type": "error",
     "traceback": [
      "\u001b[0;31m---------------------------------------------------------------------------\u001b[0m",
      "\u001b[0;31mTypeError\u001b[0m                                 Traceback (most recent call last)",
      "\u001b[0;32m/var/folders/vc/6zzvx8k5237dtyhf94hsl1580000gp/T/ipykernel_96450/625138040.py\u001b[0m in \u001b[0;36m<module>\u001b[0;34m\u001b[0m\n\u001b[1;32m     30\u001b[0m \u001b[0mlista_rutas\u001b[0m \u001b[0;34m=\u001b[0m \u001b[0mlista_sierra\u001b[0m\u001b[0;34m[\u001b[0m\u001b[0;36m15\u001b[0m\u001b[0;34m:\u001b[0m\u001b[0;36m53\u001b[0m\u001b[0;34m]\u001b[0m\u001b[0;34m\u001b[0m\u001b[0;34m\u001b[0m\u001b[0m\n\u001b[1;32m     31\u001b[0m \u001b[0;32mfor\u001b[0m \u001b[0mruta\u001b[0m \u001b[0;32min\u001b[0m \u001b[0mlista_rutas\u001b[0m\u001b[0;34m:\u001b[0m\u001b[0;34m\u001b[0m\u001b[0;34m\u001b[0m\u001b[0m\n\u001b[0;32m---> 32\u001b[0;31m     \u001b[0mdiccionario_rutas\u001b[0m\u001b[0;34m[\u001b[0m\u001b[0;34m'nombre'\u001b[0m\u001b[0;34m]\u001b[0m\u001b[0;34m.\u001b[0m\u001b[0mappend\u001b[0m\u001b[0;34m(\u001b[0m\u001b[0mlista_rutas\u001b[0m\u001b[0;34m(\u001b[0m\u001b[0mruta\u001b[0m\u001b[0;34m)\u001b[0m\u001b[0;34m)\u001b[0m\u001b[0;34m\u001b[0m\u001b[0;34m\u001b[0m\u001b[0m\n\u001b[0m\u001b[1;32m     33\u001b[0m \u001b[0;34m\u001b[0m\u001b[0m\n\u001b[1;32m     34\u001b[0m \u001b[0mdiccionario_rutas\u001b[0m\u001b[0;34m\u001b[0m\u001b[0;34m\u001b[0m\u001b[0m\n",
      "\u001b[0;31mTypeError\u001b[0m: 'list' object is not callable"
     ]
    }
   ],
   "source": [
    "url= \"https://turismoactiva.com/rutas-de-montana-sierra-de-gredos/\"\n",
    "# definimos la url de la página de la vamos a sacar datos\n",
    "\n",
    "# hacemos la request a la página de la que queremos sacar la info\n",
    "res_sierra_gredos = requests.get(url)\n",
    "\n",
    "# vemos si todo ha ido bien\n",
    "print(\"La respuesta de la petición es:\", res_sierra_gredos.status_code)\n",
    "# creamos el objeto BeautifulSoup para poder acceder al contenido solicitado\n",
    "sopa_sierra_gredos = BeautifulSoup(res_sierra_gredos.content, 'html.parser')\n",
    "\n",
    "\n",
    "\n",
    "lista_sierra=[]\n",
    "\n",
    "for sitio in sopa_sierra_gredos.find_all('div',{'class':'elementor-widget-container'}):\n",
    "    lista_sierra.append(sitio.text.strip())\n",
    "  \n",
    "diccionario_rutas={\n",
    "    'nombre':[],\n",
    "    'donde' :[],\n",
    "    'tipo':[],\n",
    "    'duración':[],\n",
    "    'kilometros':[],\n",
    "    'dificultad':[],\n",
    "    'esfuerzo':[],\n",
    "    'descripcion':[]\n",
    "\n",
    "}\n",
    "lista_rutas = lista_sierra[15:53]\n",
    "\n",
    "\n",
    "\n",
    "for i,ruta in enumerate(lista_rutas):\n",
    "    \n",
    "    lista_contenido=ruta.split('\\n')\n",
    "    \n",
    "    #lista_donde = lista_nombres[]\n",
    "  \n",
    "    # lista_duracion= lista_nombres[3]\n",
    "    # lista_kilometros = lista_nombres[4]\n",
    "\n"
   ]
  },
  {
   "cell_type": "code",
   "execution_count": 82,
   "metadata": {},
   "outputs": [
    {
     "data": {
      "text/plain": [
       "13"
      ]
     },
     "execution_count": 82,
     "metadata": {},
     "output_type": "execute_result"
    }
   ],
   "source": [
    " #lista_rutas[::3]\n",
    "lista_rutas[1::3]\n",
    "len(lista_rutas[1::3])"
   ]
  }
 ],
 "metadata": {
  "kernelspec": {
   "display_name": "base",
   "language": "python",
   "name": "python3"
  },
  "language_info": {
   "codemirror_mode": {
    "name": "ipython",
    "version": 3
   },
   "file_extension": ".py",
   "mimetype": "text/x-python",
   "name": "python",
   "nbconvert_exporter": "python",
   "pygments_lexer": "ipython3",
   "version": "3.9.7"
  }
 },
 "nbformat": 4,
 "nbformat_minor": 2
}
